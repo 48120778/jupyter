{
 "cells": [
  {
   "cell_type": "code",
   "execution_count": null,
   "metadata": {},
   "outputs": [],
   "source": [
    "import requests\n",
    "from pandas.io.json import json_normalize\n",
    "\n",
    "url = \"https://think.cs.vt.edu/corgis/json/airlines/airlines.json\"\n",
    "resp = requests.get(url=url)\n",
    "\n",
    "df = json_normalize(resp.json())\n",
    "df.head()"
   ]
  },
  {
   "cell_type": "code",
   "execution_count": null,
   "metadata": {},
   "outputs": [],
   "source": [
    "%load_ext rpy2.ipython"
   ]
  },
  {
   "cell_type": "code",
   "execution_count": null,
   "metadata": {},
   "outputs": [],
   "source": [
    "%%R -i df\n",
    "\n",
    "require(ggplot2)\n",
    "require(gganimate)\n",
    "require(grDevices)\n",
    "\n",
    "tp <- ggplot(df, aes(time.year, statistics.minutes.delayed.total, group = carrier.code)) + \n",
    "  geom_line() + \n",
    "  geom_segment(aes(xend = 2016, yend = statistics.minutes.delayed.total), linetype = 2, colour = 'grey') + \n",
    "  geom_point(size = 2) + \n",
    "  geom_text(aes(x = 2016, label = time.year), hjust = 0) + \n",
    "  transition_reveal((time.year) + \n",
    "  coord_cartesian(clip = 'off') + \n",
    "  labs(title = 'Delayed Flights', y = 'Delay in min') + \n",
    "  theme_minimal() + \n",
    "\n",
    "print(tp)\n"
   ]
  },
  {
   "cell_type": "code",
   "execution_count": null,
   "metadata": {},
   "outputs": [],
   "source": [
    "%%R -i df\n",
    "require(gganimate);\n",
    "\n",
    "tp <- ggplot(df, aes(time.year, statistics.minutes.delayed.total, group = carrier.code)) + \n",
    "  geom_line() + \n",
    "  geom_segment(aes(xend = 2016, yend = statistics.minutes.delayed.total), linetype = 2, colour = 'grey') + \n",
    "  geom_point(size = 2) + \n",
    "  transition_states((time.year, transition_length = 2, state_length = 1) + \n",
    "  coord_cartesian(clip = 'off') + \n",
    "  labs(title = 'Delayed Flights', y = 'Delay in min') + \n",
    "  theme_minimal() + \n",
    "\n",
    "print(tp)"
   ]
  },
  {
   "cell_type": "code",
   "execution_count": null,
   "metadata": {},
   "outputs": [],
   "source": []
  }
 ],
 "metadata": {
  "kernelspec": {
   "display_name": "Python 3",
   "language": "python",
   "name": "python3"
  },
  "language_info": {
   "codemirror_mode": {
    "name": "ipython",
    "version": 3
   },
   "file_extension": ".py",
   "mimetype": "text/x-python",
   "name": "python",
   "nbconvert_exporter": "python",
   "pygments_lexer": "ipython3",
   "version": "3.7.3"
  }
 },
 "nbformat": 4,
 "nbformat_minor": 2
}
