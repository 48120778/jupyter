{
 "cells": [
  {
   "cell_type": "code",
   "execution_count": 1,
   "metadata": {},
   "outputs": [
    {
     "name": "stderr",
     "output_type": "stream",
     "text": [
      "Loading required package: readxl\n"
     ]
    }
   ],
   "source": [
    "require(readxl)\n",
    "help(read_excel)"
   ]
  },
  {
   "cell_type": "code",
   "execution_count": 2,
   "metadata": {},
   "outputs": [],
   "source": [
    "df <- read_excel(\"example_sheets2.xlsx\")"
   ]
  },
  {
   "cell_type": "code",
   "execution_count": 59,
   "metadata": {},
   "outputs": [
    {
     "name": "stderr",
     "output_type": "stream",
     "text": [
      "Installing package into 'C:/Users/erima96/Documents/R/win-library/3.6'\n",
      "(as 'lib' is unspecified)\n",
      "also installing the dependencies 'rJava', 'xlsxjars'\n",
      "\n"
     ]
    },
    {
     "name": "stdout",
     "output_type": "stream",
     "text": [
      "package 'rJava' successfully unpacked and MD5 sums checked\n",
      "package 'xlsxjars' successfully unpacked and MD5 sums checked\n",
      "package 'xlsx' successfully unpacked and MD5 sums checked\n",
      "\n",
      "The downloaded binary packages are in\n",
      "\tC:\\Users\\erima96\\AppData\\Local\\Temp\\Rtmpm8jDJk\\downloaded_packages\n"
     ]
    }
   ],
   "source": [
    "install.packages('xlsx')"
   ]
  },
  {
   "cell_type": "code",
   "execution_count": 2,
   "metadata": {},
   "outputs": [
    {
     "name": "stderr",
     "output_type": "stream",
     "text": [
      "Loading required package: xlsx\n"
     ]
    }
   ],
   "source": [
    "require(xlsx)\n",
    "help(write.xlsx)"
   ]
  },
  {
   "cell_type": "code",
   "execution_count": 8,
   "metadata": {},
   "outputs": [
    {
     "data": {
      "text/html": [
       "<table>\n",
       "<caption>A data.frame: 6 × 3</caption>\n",
       "<thead>\n",
       "\t<tr><th scope=col>Year</th><th scope=col>Player</th><th scope=col>Salary</th></tr>\n",
       "\t<tr><th scope=col>&lt;dbl&gt;</th><th scope=col>&lt;fct&gt;</th><th scope=col>&lt;dbl&gt;</th></tr>\n",
       "</thead>\n",
       "<tbody>\n",
       "\t<tr><td>1988</td><td>Mike Witt      </td><td>1400000</td></tr>\n",
       "\t<tr><td>1988</td><td>George Hendrick</td><td> 989333</td></tr>\n",
       "\t<tr><td>1988</td><td>Chili Davis    </td><td> 950000</td></tr>\n",
       "\t<tr><td>1988</td><td>Brian Downing  </td><td> 900000</td></tr>\n",
       "\t<tr><td>1988</td><td>Bob Boone      </td><td> 883000</td></tr>\n",
       "\t<tr><td>1988</td><td>Johnny Ray     </td><td> 857000</td></tr>\n",
       "</tbody>\n",
       "</table>\n"
      ],
      "text/latex": [
       "A data.frame: 6 × 3\n",
       "\\begin{tabular}{r|lll}\n",
       " Year & Player & Salary\\\\\n",
       " <dbl> & <fct> & <dbl>\\\\\n",
       "\\hline\n",
       "\t 1988 & Mike Witt       & 1400000\\\\\n",
       "\t 1988 & George Hendrick &  989333\\\\\n",
       "\t 1988 & Chili Davis     &  950000\\\\\n",
       "\t 1988 & Brian Downing   &  900000\\\\\n",
       "\t 1988 & Bob Boone       &  883000\\\\\n",
       "\t 1988 & Johnny Ray      &  857000\\\\\n",
       "\\end{tabular}\n"
      ],
      "text/markdown": [
       "\n",
       "A data.frame: 6 × 3\n",
       "\n",
       "| Year &lt;dbl&gt; | Player &lt;fct&gt; | Salary &lt;dbl&gt; |\n",
       "|---|---|---|\n",
       "| 1988 | Mike Witt       | 1400000 |\n",
       "| 1988 | George Hendrick |  989333 |\n",
       "| 1988 | Chili Davis     |  950000 |\n",
       "| 1988 | Brian Downing   |  900000 |\n",
       "| 1988 | Bob Boone       |  883000 |\n",
       "| 1988 | Johnny Ray      |  857000 |\n",
       "\n"
      ],
      "text/plain": [
       "  Year Player          Salary \n",
       "1 1988 Mike Witt       1400000\n",
       "2 1988 George Hendrick  989333\n",
       "3 1988 Chili Davis      950000\n",
       "4 1988 Brian Downing    900000\n",
       "5 1988 Bob Boone        883000\n",
       "6 1988 Johnny Ray       857000"
      ]
     },
     "metadata": {},
     "output_type": "display_data"
    }
   ],
   "source": [
    "require(xlsx)\n",
    "cols <-  c(1, 2, 3)\n",
    "\n",
    "df <- read.xlsx('MLBPlayerSalaries.xlsx', \n",
    "                   sheetName='MLBPlayerSalaries', colIndex=cols)\n",
    "head(df)"
   ]
  },
  {
   "cell_type": "code",
   "execution_count": 8,
   "metadata": {},
   "outputs": [],
   "source": [
    "help(read_excel)"
   ]
  },
  {
   "cell_type": "code",
   "execution_count": 16,
   "metadata": {},
   "outputs": [
    {
     "data": {
      "text/html": [
       "<table>\n",
       "<caption>A tibble: 3 × 3</caption>\n",
       "<thead>\n",
       "\t<tr><th scope=col>Year</th><th scope=col>Player</th><th scope=col>Salary</th></tr>\n",
       "\t<tr><th scope=col>&lt;dbl&gt;</th><th scope=col>&lt;chr&gt;</th><th scope=col>&lt;dbl&gt;</th></tr>\n",
       "</thead>\n",
       "<tbody>\n",
       "\t<tr><td>1988</td><td>Mike Witt      </td><td>1400000</td></tr>\n",
       "\t<tr><td>1988</td><td>George Hendrick</td><td> 989333</td></tr>\n",
       "\t<tr><td>1988</td><td>Chili Davis    </td><td> 950000</td></tr>\n",
       "</tbody>\n",
       "</table>\n"
      ],
      "text/latex": [
       "A tibble: 3 × 3\n",
       "\\begin{tabular}{r|lll}\n",
       " Year & Player & Salary\\\\\n",
       " <dbl> & <chr> & <dbl>\\\\\n",
       "\\hline\n",
       "\t 1988 & Mike Witt       & 1400000\\\\\n",
       "\t 1988 & George Hendrick &  989333\\\\\n",
       "\t 1988 & Chili Davis     &  950000\\\\\n",
       "\\end{tabular}\n"
      ],
      "text/markdown": [
       "\n",
       "A tibble: 3 × 3\n",
       "\n",
       "| Year &lt;dbl&gt; | Player &lt;chr&gt; | Salary &lt;dbl&gt; |\n",
       "|---|---|---|\n",
       "| 1988 | Mike Witt       | 1400000 |\n",
       "| 1988 | George Hendrick |  989333 |\n",
       "| 1988 | Chili Davis     |  950000 |\n",
       "\n"
      ],
      "text/plain": [
       "  Year Player          Salary \n",
       "1 1988 Mike Witt       1400000\n",
       "2 1988 George Hendrick  989333\n",
       "3 1988 Chili Davis      950000"
      ]
     },
     "metadata": {},
     "output_type": "display_data"
    }
   ],
   "source": [
    "df <- read_excel('MLBPlayerSalaries.xlsx', \n",
    "           range = cell_cols('A:C'))\n",
    "\n",
    "head(df, 3)"
   ]
  },
  {
   "cell_type": "code",
   "execution_count": 21,
   "metadata": {},
   "outputs": [
    {
     "data": {
      "text/html": [
       "<table>\n",
       "<caption>A tibble: 6 × 5</caption>\n",
       "<thead>\n",
       "\t<tr><th scope=col>Name</th><th scope=col>ID</th><th scope=col>Mean</th><th scope=col>Correct</th><th scope=col>Session</th></tr>\n",
       "\t<tr><th scope=col>&lt;chr&gt;</th><th scope=col>&lt;dbl&gt;</th><th scope=col>&lt;dbl&gt;</th><th scope=col>&lt;dbl&gt;</th><th scope=col>&lt;dbl&gt;</th></tr>\n",
       "</thead>\n",
       "<tbody>\n",
       "\t<tr><td>Pete    </td><td>1</td><td>31</td><td>14</td><td>2</td></tr>\n",
       "\t<tr><td>Steve   </td><td>2</td><td>32</td><td>15</td><td>2</td></tr>\n",
       "\t<tr><td>Dave    </td><td>3</td><td>29</td><td>14</td><td>2</td></tr>\n",
       "\t<tr><td>Justine </td><td>4</td><td>28</td><td>12</td><td>2</td></tr>\n",
       "\t<tr><td>Frederic</td><td>5</td><td>43</td><td> 2</td><td>2</td></tr>\n",
       "\t<tr><td>John    </td><td>6</td><td>NA</td><td>NA</td><td>2</td></tr>\n",
       "</tbody>\n",
       "</table>\n"
      ],
      "text/latex": [
       "A tibble: 6 × 5\n",
       "\\begin{tabular}{r|lllll}\n",
       " Name & ID & Mean & Correct & Session\\\\\n",
       " <chr> & <dbl> & <dbl> & <dbl> & <dbl>\\\\\n",
       "\\hline\n",
       "\t Pete     & 1 & 31 & 14 & 2\\\\\n",
       "\t Steve    & 2 & 32 & 15 & 2\\\\\n",
       "\t Dave     & 3 & 29 & 14 & 2\\\\\n",
       "\t Justine  & 4 & 28 & 12 & 2\\\\\n",
       "\t Frederic & 5 & 43 &  2 & 2\\\\\n",
       "\t John     & 6 & NA & NA & 2\\\\\n",
       "\\end{tabular}\n"
      ],
      "text/markdown": [
       "\n",
       "A tibble: 6 × 5\n",
       "\n",
       "| Name &lt;chr&gt; | ID &lt;dbl&gt; | Mean &lt;dbl&gt; | Correct &lt;dbl&gt; | Session &lt;dbl&gt; |\n",
       "|---|---|---|---|---|\n",
       "| Pete     | 1 | 31 | 14 | 2 |\n",
       "| Steve    | 2 | 32 | 15 | 2 |\n",
       "| Dave     | 3 | 29 | 14 | 2 |\n",
       "| Justine  | 4 | 28 | 12 | 2 |\n",
       "| Frederic | 5 | 43 |  2 | 2 |\n",
       "| John     | 6 | NA | NA | 2 |\n",
       "\n"
      ],
      "text/plain": [
       "  Name     ID Mean Correct Session\n",
       "1 Pete     1  31   14      2      \n",
       "2 Steve    2  32   15      2      \n",
       "3 Dave     3  29   14      2      \n",
       "4 Justine  4  28   12      2      \n",
       "5 Frederic 5  43    2      2      \n",
       "6 John     6  NA   NA      2      "
      ]
     },
     "metadata": {},
     "output_type": "display_data"
    }
   ],
   "source": [
    "df <- read_excel('SimData/example_sheets2.xlsx', 'Session2',\n",
    "           na = '-99')\n",
    "\n",
    "head(df, 6)"
   ]
  },
  {
   "cell_type": "code",
   "execution_count": 5,
   "metadata": {},
   "outputs": [
    {
     "data": {
      "text/html": [
       "<table>\n",
       "<caption>A tibble: 4 × 5</caption>\n",
       "<thead>\n",
       "\t<tr><th scope=col>Name</th><th scope=col>ID</th><th scope=col>Mean</th><th scope=col>Correct</th><th scope=col>Session</th></tr>\n",
       "\t<tr><th scope=col>&lt;chr&gt;</th><th scope=col>&lt;dbl&gt;</th><th scope=col>&lt;dbl&gt;</th><th scope=col>&lt;dbl&gt;</th><th scope=col>&lt;dbl&gt;</th></tr>\n",
       "</thead>\n",
       "<tbody>\n",
       "\t<tr><td>Pete   </td><td>1</td><td>32</td><td>15</td><td>1</td></tr>\n",
       "\t<tr><td>Steve  </td><td>2</td><td>31</td><td>14</td><td>1</td></tr>\n",
       "\t<tr><td>Dave   </td><td>3</td><td>30</td><td>15</td><td>1</td></tr>\n",
       "\t<tr><td>Justine</td><td>4</td><td>31</td><td>13</td><td>1</td></tr>\n",
       "</tbody>\n",
       "</table>\n"
      ],
      "text/latex": [
       "A tibble: 4 × 5\n",
       "\\begin{tabular}{r|lllll}\n",
       " Name & ID & Mean & Correct & Session\\\\\n",
       " <chr> & <dbl> & <dbl> & <dbl> & <dbl>\\\\\n",
       "\\hline\n",
       "\t Pete    & 1 & 32 & 15 & 1\\\\\n",
       "\t Steve   & 2 & 31 & 14 & 1\\\\\n",
       "\t Dave    & 3 & 30 & 15 & 1\\\\\n",
       "\t Justine & 4 & 31 & 13 & 1\\\\\n",
       "\\end{tabular}\n"
      ],
      "text/markdown": [
       "\n",
       "A tibble: 4 × 5\n",
       "\n",
       "| Name &lt;chr&gt; | ID &lt;dbl&gt; | Mean &lt;dbl&gt; | Correct &lt;dbl&gt; | Session &lt;dbl&gt; |\n",
       "|---|---|---|---|---|\n",
       "| Pete    | 1 | 32 | 15 | 1 |\n",
       "| Steve   | 2 | 31 | 14 | 1 |\n",
       "| Dave    | 3 | 30 | 15 | 1 |\n",
       "| Justine | 4 | 31 | 13 | 1 |\n",
       "\n"
      ],
      "text/plain": [
       "  Name    ID Mean Correct Session\n",
       "1 Pete    1  32   15      1      \n",
       "2 Steve   2  31   14      1      \n",
       "3 Dave    3  30   15      1      \n",
       "4 Justine 4  31   13      1      "
      ]
     },
     "metadata": {},
     "output_type": "display_data"
    }
   ],
   "source": [
    "df <- read_excel('SimData/example_sheets.xlsx', \n",
    "                 sheet='Session1', skip = 2)\n",
    "\n",
    "head(df, 4)"
   ]
  },
  {
   "cell_type": "code",
   "execution_count": 7,
   "metadata": {},
   "outputs": [
    {
     "data": {
      "text/html": [
       "<table>\n",
       "<caption>A data.frame: 6 × 5</caption>\n",
       "<thead>\n",
       "\t<tr><th scope=col>Name</th><th scope=col>ID</th><th scope=col>Mean</th><th scope=col>Correct</th><th scope=col>Session</th></tr>\n",
       "\t<tr><th scope=col>&lt;fct&gt;</th><th scope=col>&lt;dbl&gt;</th><th scope=col>&lt;dbl&gt;</th><th scope=col>&lt;dbl&gt;</th><th scope=col>&lt;dbl&gt;</th></tr>\n",
       "</thead>\n",
       "<tbody>\n",
       "\t<tr><td>Pete    </td><td>1</td><td>32</td><td>15</td><td>1</td></tr>\n",
       "\t<tr><td>Steve   </td><td>2</td><td>31</td><td>14</td><td>1</td></tr>\n",
       "\t<tr><td>Dave    </td><td>3</td><td>30</td><td>15</td><td>1</td></tr>\n",
       "\t<tr><td>Justine </td><td>4</td><td>31</td><td>13</td><td>1</td></tr>\n",
       "\t<tr><td>Frederic</td><td>5</td><td>45</td><td>14</td><td>1</td></tr>\n",
       "\t<tr><td>John    </td><td>6</td><td>NA</td><td>NA</td><td>1</td></tr>\n",
       "</tbody>\n",
       "</table>\n"
      ],
      "text/latex": [
       "A data.frame: 6 × 5\n",
       "\\begin{tabular}{r|lllll}\n",
       " Name & ID & Mean & Correct & Session\\\\\n",
       " <fct> & <dbl> & <dbl> & <dbl> & <dbl>\\\\\n",
       "\\hline\n",
       "\t Pete     & 1 & 32 & 15 & 1\\\\\n",
       "\t Steve    & 2 & 31 & 14 & 1\\\\\n",
       "\t Dave     & 3 & 30 & 15 & 1\\\\\n",
       "\t Justine  & 4 & 31 & 13 & 1\\\\\n",
       "\t Frederic & 5 & 45 & 14 & 1\\\\\n",
       "\t John     & 6 & NA & NA & 1\\\\\n",
       "\\end{tabular}\n"
      ],
      "text/markdown": [
       "\n",
       "A data.frame: 6 × 5\n",
       "\n",
       "| Name &lt;fct&gt; | ID &lt;dbl&gt; | Mean &lt;dbl&gt; | Correct &lt;dbl&gt; | Session &lt;dbl&gt; |\n",
       "|---|---|---|---|---|\n",
       "| Pete     | 1 | 32 | 15 | 1 |\n",
       "| Steve    | 2 | 31 | 14 | 1 |\n",
       "| Dave     | 3 | 30 | 15 | 1 |\n",
       "| Justine  | 4 | 31 | 13 | 1 |\n",
       "| Frederic | 5 | 45 | 14 | 1 |\n",
       "| John     | 6 | NA | NA | 1 |\n",
       "\n"
      ],
      "text/plain": [
       "  Name     ID Mean Correct Session\n",
       "1 Pete     1  32   15      1      \n",
       "2 Steve    2  31   14      1      \n",
       "3 Dave     3  30   15      1      \n",
       "4 Justine  4  31   13      1      \n",
       "5 Frederic 5  45   14      1      \n",
       "6 John     6  NA   NA      1      "
      ]
     },
     "metadata": {},
     "output_type": "display_data"
    }
   ],
   "source": [
    "df <- read.xlsx('SimData/example_sheets.xlsx', \n",
    "                   sheetName='Session1', startRow=3)\n",
    "head(df)"
   ]
  },
  {
   "cell_type": "code",
   "execution_count": 13,
   "metadata": {},
   "outputs": [
    {
     "data": {
      "text/html": [
       "<ol class=list-inline>\n",
       "\t<li>'Session1'</li>\n",
       "\t<li>'Session2'</li>\n",
       "</ol>\n"
      ],
      "text/latex": [
       "\\begin{enumerate*}\n",
       "\\item 'Session1'\n",
       "\\item 'Session2'\n",
       "\\end{enumerate*}\n"
      ],
      "text/markdown": [
       "1. 'Session1'\n",
       "2. 'Session2'\n",
       "\n",
       "\n"
      ],
      "text/plain": [
       "[1] \"Session1\" \"Session2\""
      ]
     },
     "metadata": {},
     "output_type": "display_data"
    }
   ],
   "source": [
    "xlsx_data <- \"SimData/example_sheets2.xlsx\"\n",
    "\n",
    "excel_sheets(path = xl_data)"
   ]
  },
  {
   "cell_type": "code",
   "execution_count": 14,
   "metadata": {},
   "outputs": [
    {
     "name": "stdout",
     "output_type": "stream",
     "text": [
      "List of 2\n",
      " $ :Classes 'tbl_df', 'tbl' and 'data.frame':\t10 obs. of  5 variables:\n",
      "  ..$ Name   : chr [1:10] \"Pete\" \"Steve\" \"Dave\" \"Justine\" ...\n",
      "  ..$ ID     : num [1:10] 1 2 3 4 5 6 7 8 9 10\n",
      "  ..$ Mean   : num [1:10] 32 31 30 31 45 99 29 35 37 33\n",
      "  ..$ Correct: num [1:10] 15 14 15 13 14 99 11 14 14 14\n",
      "  ..$ Session: num [1:10] 1 1 1 1 1 1 1 1 1 1\n",
      " $ :Classes 'tbl_df', 'tbl' and 'data.frame':\t10 obs. of  5 variables:\n",
      "  ..$ Name   : chr [1:10] \"Pete\" \"Steve\" \"Dave\" \"Justine\" ...\n",
      "  ..$ ID     : num [1:10] 1 2 3 4 5 6 7 8 9 10\n",
      "  ..$ Mean   : num [1:10] 31 32 29 28 43 -99 31 33 38 33\n",
      "  ..$ Correct: num [1:10] 14 15 14 12 2 -99 11 13 15 14\n",
      "  ..$ Session: num [1:10] 2 2 2 2 2 2 2 2 2 2\n"
     ]
    }
   ],
   "source": [
    "tab_names <- excel_sheets(path = xlsx_data)\n",
    "\n",
    "excel_sheets <- lapply(tab_names, function(x) read_excel(path = xlsx_data, sheet = x))\n",
    "\n",
    "str(excel_sheets)"
   ]
  },
  {
   "cell_type": "code",
   "execution_count": 15,
   "metadata": {},
   "outputs": [
    {
     "data": {
      "text/html": [
       "<table>\n",
       "<thead><tr><th scope=col>Name</th><th scope=col>ID</th><th scope=col>Mean</th><th scope=col>Correct</th><th scope=col>Session</th></tr></thead>\n",
       "<tbody>\n",
       "\t<tr><td>Pete    </td><td>1       </td><td>32      </td><td>15      </td><td>1       </td></tr>\n",
       "\t<tr><td>Steve   </td><td>2       </td><td>31      </td><td>14      </td><td>1       </td></tr>\n",
       "\t<tr><td>Dave    </td><td>3       </td><td>30      </td><td>15      </td><td>1       </td></tr>\n",
       "\t<tr><td>Justine </td><td>4       </td><td>31      </td><td>13      </td><td>1       </td></tr>\n",
       "\t<tr><td>Frederic</td><td>5       </td><td>45      </td><td>14      </td><td>1       </td></tr>\n",
       "\t<tr><td>John    </td><td>6       </td><td>99      </td><td>99      </td><td>1       </td></tr>\n",
       "</tbody>\n",
       "</table>\n"
      ],
      "text/latex": [
       "\\begin{tabular}{r|lllll}\n",
       " Name & ID & Mean & Correct & Session\\\\\n",
       "\\hline\n",
       "\t Pete     & 1        & 32       & 15       & 1       \\\\\n",
       "\t Steve    & 2        & 31       & 14       & 1       \\\\\n",
       "\t Dave     & 3        & 30       & 15       & 1       \\\\\n",
       "\t Justine  & 4        & 31       & 13       & 1       \\\\\n",
       "\t Frederic & 5        & 45       & 14       & 1       \\\\\n",
       "\t John     & 6        & 99       & 99       & 1       \\\\\n",
       "\\end{tabular}\n"
      ],
      "text/markdown": [
       "\n",
       "| Name | ID | Mean | Correct | Session |\n",
       "|---|---|---|---|---|\n",
       "| Pete     | 1        | 32       | 15       | 1        |\n",
       "| Steve    | 2        | 31       | 14       | 1        |\n",
       "| Dave     | 3        | 30       | 15       | 1        |\n",
       "| Justine  | 4        | 31       | 13       | 1        |\n",
       "| Frederic | 5        | 45       | 14       | 1        |\n",
       "| John     | 6        | 99       | 99       | 1        |\n",
       "\n"
      ],
      "text/plain": [
       "  Name     ID Mean Correct Session\n",
       "1 Pete     1  32   15      1      \n",
       "2 Steve    2  31   14      1      \n",
       "3 Dave     3  30   15      1      \n",
       "4 Justine  4  31   13      1      \n",
       "5 Frederic 5  45   14      1      \n",
       "6 John     6  99   99      1      "
      ]
     },
     "metadata": {},
     "output_type": "display_data"
    }
   ],
   "source": [
    "df <- do.call(\"rbind\", excel_sheets)\n",
    "\n",
    "head(df)"
   ]
  },
  {
   "cell_type": "code",
   "execution_count": 25,
   "metadata": {},
   "outputs": [],
   "source": [
    "xlsx_files <- c(\"example_concat.xlsx\",\n",
    "               \"example_concat1.xlsx\",\n",
    "               \"example_concat3.xlsx\")\n",
    "\n",
    "dataframes <- lapply(xlsx_files, function(x) \n",
    "    read_excel(path = paste0(\"simData/\", x)))"
   ]
  },
  {
   "cell_type": "code",
   "execution_count": 26,
   "metadata": {},
   "outputs": [
    {
     "data": {
      "text/html": [
       "<table>\n",
       "<thead><tr><th scope=col>Name</th><th scope=col>ID</th><th scope=col>Mean</th><th scope=col>Correct</th><th scope=col>Session</th></tr></thead>\n",
       "<tbody>\n",
       "\t<tr><td>Eric     </td><td>25       </td><td>34       </td><td>14       </td><td>1        </td></tr>\n",
       "\t<tr><td>Sven     </td><td>26       </td><td>NA       </td><td>NA       </td><td>1        </td></tr>\n",
       "\t<tr><td>Jenny    </td><td>27       </td><td>31       </td><td>11       </td><td>1        </td></tr>\n",
       "\t<tr><td>Greta    </td><td>28       </td><td>44       </td><td>14       </td><td>1        </td></tr>\n",
       "\t<tr><td>Margareta</td><td>29       </td><td>29       </td><td>14       </td><td>1        </td></tr>\n",
       "\t<tr><td>Marget   </td><td>30       </td><td>27       </td><td>14       </td><td>1        </td></tr>\n",
       "</tbody>\n",
       "</table>\n"
      ],
      "text/latex": [
       "\\begin{tabular}{r|lllll}\n",
       " Name & ID & Mean & Correct & Session\\\\\n",
       "\\hline\n",
       "\t Eric      & 25        & 34        & 14        & 1        \\\\\n",
       "\t Sven      & 26        & NA        & NA        & 1        \\\\\n",
       "\t Jenny     & 27        & 31        & 11        & 1        \\\\\n",
       "\t Greta     & 28        & 44        & 14        & 1        \\\\\n",
       "\t Margareta & 29        & 29        & 14        & 1        \\\\\n",
       "\t Marget    & 30        & 27        & 14        & 1        \\\\\n",
       "\\end{tabular}\n"
      ],
      "text/markdown": [
       "\n",
       "| Name | ID | Mean | Correct | Session |\n",
       "|---|---|---|---|---|\n",
       "| Eric      | 25        | 34        | 14        | 1         |\n",
       "| Sven      | 26        | NA        | NA        | 1         |\n",
       "| Jenny     | 27        | 31        | 11        | 1         |\n",
       "| Greta     | 28        | 44        | 14        | 1         |\n",
       "| Margareta | 29        | 29        | 14        | 1         |\n",
       "| Marget    | 30        | 27        | 14        | 1         |\n",
       "\n"
      ],
      "text/plain": [
       "  Name      ID Mean Correct Session\n",
       "1 Eric      25 34   14      1      \n",
       "2 Sven      26 NA   NA      1      \n",
       "3 Jenny     27 31   11      1      \n",
       "4 Greta     28 44   14      1      \n",
       "5 Margareta 29 29   14      1      \n",
       "6 Marget    30 27   14      1      "
      ]
     },
     "metadata": {},
     "output_type": "display_data"
    }
   ],
   "source": [
    "df <- do.call(\"rbind\", dataframes)\n",
    "\n",
    "tail(df)"
   ]
  },
  {
   "cell_type": "code",
   "execution_count": 34,
   "metadata": {},
   "outputs": [
    {
     "data": {
      "text/html": [
       "<table>\n",
       "<thead><tr><th scope=col>a</th><th scope=col>Name</th><th scope=col>ID</th><th scope=col>Mean</th><th scope=col>Correct</th><th scope=col>Session</th></tr></thead>\n",
       "<tbody>\n",
       "\t<tr><td>1          </td><td>Pete       </td><td> 1         </td><td>31         </td><td>14         </td><td>1          </td></tr>\n",
       "\t<tr><td>1          </td><td>Steve      </td><td> 2         </td><td>32         </td><td>15         </td><td>1          </td></tr>\n",
       "\t<tr><td>1          </td><td>Dave       </td><td> 3         </td><td>29         </td><td>14         </td><td>1          </td></tr>\n",
       "\t<tr><td>1          </td><td>Justine    </td><td> 4         </td><td>28         </td><td>12         </td><td>1          </td></tr>\n",
       "\t<tr><td>1          </td><td>Frederic   </td><td> 5         </td><td>43         </td><td> 2         </td><td>1          </td></tr>\n",
       "\t<tr><td>1          </td><td>John       </td><td> 6         </td><td>NA         </td><td>NA         </td><td>1          </td></tr>\n",
       "\t<tr><td>1          </td><td>Josephine  </td><td> 7         </td><td>31         </td><td>11         </td><td>1          </td></tr>\n",
       "\t<tr><td>1          </td><td>Lee        </td><td> 8         </td><td>33         </td><td>13         </td><td>1          </td></tr>\n",
       "\t<tr><td>1          </td><td>Roman      </td><td> 9         </td><td>38         </td><td>15         </td><td>1          </td></tr>\n",
       "\t<tr><td>1          </td><td>Caroline   </td><td>10         </td><td>33         </td><td>14         </td><td>1          </td></tr>\n",
       "\t<tr><td>2          </td><td>Rolf       </td><td>11         </td><td>29         </td><td>15         </td><td>1          </td></tr>\n",
       "\t<tr><td>2          </td><td>Jonathan   </td><td>12         </td><td>32         </td><td>14         </td><td>1          </td></tr>\n",
       "\t<tr><td>2          </td><td>Kevin      </td><td>13         </td><td>31         </td><td>15         </td><td>1          </td></tr>\n",
       "\t<tr><td>2          </td><td>Mona       </td><td>14         </td><td>32         </td><td>13         </td><td>1          </td></tr>\n",
       "\t<tr><td>2          </td><td>Malin      </td><td>15         </td><td>42         </td><td>14         </td><td>1          </td></tr>\n",
       "\t<tr><td>2          </td><td>Johan      </td><td>16         </td><td>33         </td><td>11         </td><td>1          </td></tr>\n",
       "\t<tr><td>2          </td><td>Jon        </td><td>17         </td><td>NA         </td><td>NA         </td><td>1          </td></tr>\n",
       "\t<tr><td>2          </td><td>Christopher</td><td>18         </td><td>35         </td><td>14         </td><td>1          </td></tr>\n",
       "\t<tr><td>2          </td><td>Carol      </td><td>19         </td><td>36         </td><td>14         </td><td>1          </td></tr>\n",
       "\t<tr><td>2          </td><td>Knut       </td><td>20         </td><td>33         </td><td>14         </td><td>1          </td></tr>\n",
       "\t<tr><td>3          </td><td>Jonny      </td><td>21         </td><td>33         </td><td>14         </td><td>1          </td></tr>\n",
       "\t<tr><td>3          </td><td>Conny      </td><td>22         </td><td>31         </td><td>12         </td><td>1          </td></tr>\n",
       "\t<tr><td>3          </td><td>Stephan    </td><td>23         </td><td>33         </td><td>13         </td><td>1          </td></tr>\n",
       "\t<tr><td>3          </td><td>Peter      </td><td>24         </td><td>34         </td><td>15         </td><td>1          </td></tr>\n",
       "\t<tr><td>3          </td><td>Eric       </td><td>25         </td><td>34         </td><td>14         </td><td>1          </td></tr>\n",
       "\t<tr><td>3          </td><td>Sven       </td><td>26         </td><td>NA         </td><td>NA         </td><td>1          </td></tr>\n",
       "\t<tr><td>3          </td><td>Jenny      </td><td>27         </td><td>31         </td><td>11         </td><td>1          </td></tr>\n",
       "\t<tr><td>3          </td><td>Greta      </td><td>28         </td><td>44         </td><td>14         </td><td>1          </td></tr>\n",
       "\t<tr><td>3          </td><td>Margareta  </td><td>29         </td><td>29         </td><td>14         </td><td>1          </td></tr>\n",
       "\t<tr><td>3          </td><td>Marget     </td><td>30         </td><td>27         </td><td>14         </td><td>1          </td></tr>\n",
       "</tbody>\n",
       "</table>\n"
      ],
      "text/latex": [
       "\\begin{tabular}{r|llllll}\n",
       " a & Name & ID & Mean & Correct & Session\\\\\n",
       "\\hline\n",
       "\t 1           & Pete        &  1          & 31          & 14          & 1          \\\\\n",
       "\t 1           & Steve       &  2          & 32          & 15          & 1          \\\\\n",
       "\t 1           & Dave        &  3          & 29          & 14          & 1          \\\\\n",
       "\t 1           & Justine     &  4          & 28          & 12          & 1          \\\\\n",
       "\t 1           & Frederic    &  5          & 43          &  2          & 1          \\\\\n",
       "\t 1           & John        &  6          & NA          & NA          & 1          \\\\\n",
       "\t 1           & Josephine   &  7          & 31          & 11          & 1          \\\\\n",
       "\t 1           & Lee         &  8          & 33          & 13          & 1          \\\\\n",
       "\t 1           & Roman       &  9          & 38          & 15          & 1          \\\\\n",
       "\t 1           & Caroline    & 10          & 33          & 14          & 1          \\\\\n",
       "\t 2           & Rolf        & 11          & 29          & 15          & 1          \\\\\n",
       "\t 2           & Jonathan    & 12          & 32          & 14          & 1          \\\\\n",
       "\t 2           & Kevin       & 13          & 31          & 15          & 1          \\\\\n",
       "\t 2           & Mona        & 14          & 32          & 13          & 1          \\\\\n",
       "\t 2           & Malin       & 15          & 42          & 14          & 1          \\\\\n",
       "\t 2           & Johan       & 16          & 33          & 11          & 1          \\\\\n",
       "\t 2           & Jon         & 17          & NA          & NA          & 1          \\\\\n",
       "\t 2           & Christopher & 18          & 35          & 14          & 1          \\\\\n",
       "\t 2           & Carol       & 19          & 36          & 14          & 1          \\\\\n",
       "\t 2           & Knut        & 20          & 33          & 14          & 1          \\\\\n",
       "\t 3           & Jonny       & 21          & 33          & 14          & 1          \\\\\n",
       "\t 3           & Conny       & 22          & 31          & 12          & 1          \\\\\n",
       "\t 3           & Stephan     & 23          & 33          & 13          & 1          \\\\\n",
       "\t 3           & Peter       & 24          & 34          & 15          & 1          \\\\\n",
       "\t 3           & Eric        & 25          & 34          & 14          & 1          \\\\\n",
       "\t 3           & Sven        & 26          & NA          & NA          & 1          \\\\\n",
       "\t 3           & Jenny       & 27          & 31          & 11          & 1          \\\\\n",
       "\t 3           & Greta       & 28          & 44          & 14          & 1          \\\\\n",
       "\t 3           & Margareta   & 29          & 29          & 14          & 1          \\\\\n",
       "\t 3           & Marget      & 30          & 27          & 14          & 1          \\\\\n",
       "\\end{tabular}\n"
      ],
      "text/markdown": [
       "\n",
       "| a | Name | ID | Mean | Correct | Session |\n",
       "|---|---|---|---|---|---|\n",
       "| 1           | Pete        |  1          | 31          | 14          | 1           |\n",
       "| 1           | Steve       |  2          | 32          | 15          | 1           |\n",
       "| 1           | Dave        |  3          | 29          | 14          | 1           |\n",
       "| 1           | Justine     |  4          | 28          | 12          | 1           |\n",
       "| 1           | Frederic    |  5          | 43          |  2          | 1           |\n",
       "| 1           | John        |  6          | NA          | NA          | 1           |\n",
       "| 1           | Josephine   |  7          | 31          | 11          | 1           |\n",
       "| 1           | Lee         |  8          | 33          | 13          | 1           |\n",
       "| 1           | Roman       |  9          | 38          | 15          | 1           |\n",
       "| 1           | Caroline    | 10          | 33          | 14          | 1           |\n",
       "| 2           | Rolf        | 11          | 29          | 15          | 1           |\n",
       "| 2           | Jonathan    | 12          | 32          | 14          | 1           |\n",
       "| 2           | Kevin       | 13          | 31          | 15          | 1           |\n",
       "| 2           | Mona        | 14          | 32          | 13          | 1           |\n",
       "| 2           | Malin       | 15          | 42          | 14          | 1           |\n",
       "| 2           | Johan       | 16          | 33          | 11          | 1           |\n",
       "| 2           | Jon         | 17          | NA          | NA          | 1           |\n",
       "| 2           | Christopher | 18          | 35          | 14          | 1           |\n",
       "| 2           | Carol       | 19          | 36          | 14          | 1           |\n",
       "| 2           | Knut        | 20          | 33          | 14          | 1           |\n",
       "| 3           | Jonny       | 21          | 33          | 14          | 1           |\n",
       "| 3           | Conny       | 22          | 31          | 12          | 1           |\n",
       "| 3           | Stephan     | 23          | 33          | 13          | 1           |\n",
       "| 3           | Peter       | 24          | 34          | 15          | 1           |\n",
       "| 3           | Eric        | 25          | 34          | 14          | 1           |\n",
       "| 3           | Sven        | 26          | NA          | NA          | 1           |\n",
       "| 3           | Jenny       | 27          | 31          | 11          | 1           |\n",
       "| 3           | Greta       | 28          | 44          | 14          | 1           |\n",
       "| 3           | Margareta   | 29          | 29          | 14          | 1           |\n",
       "| 3           | Marget      | 30          | 27          | 14          | 1           |\n",
       "\n"
      ],
      "text/plain": [
       "   a Name        ID Mean Correct Session\n",
       "1  1 Pete         1 31   14      1      \n",
       "2  1 Steve        2 32   15      1      \n",
       "3  1 Dave         3 29   14      1      \n",
       "4  1 Justine      4 28   12      1      \n",
       "5  1 Frederic     5 43    2      1      \n",
       "6  1 John         6 NA   NA      1      \n",
       "7  1 Josephine    7 31   11      1      \n",
       "8  1 Lee          8 33   13      1      \n",
       "9  1 Roman        9 38   15      1      \n",
       "10 1 Caroline    10 33   14      1      \n",
       "11 2 Rolf        11 29   15      1      \n",
       "12 2 Jonathan    12 32   14      1      \n",
       "13 2 Kevin       13 31   15      1      \n",
       "14 2 Mona        14 32   13      1      \n",
       "15 2 Malin       15 42   14      1      \n",
       "16 2 Johan       16 33   11      1      \n",
       "17 2 Jon         17 NA   NA      1      \n",
       "18 2 Christopher 18 35   14      1      \n",
       "19 2 Carol       19 36   14      1      \n",
       "20 2 Knut        20 33   14      1      \n",
       "21 3 Jonny       21 33   14      1      \n",
       "22 3 Conny       22 31   12      1      \n",
       "23 3 Stephan     23 33   13      1      \n",
       "24 3 Peter       24 34   15      1      \n",
       "25 3 Eric        25 34   14      1      \n",
       "26 3 Sven        26 NA   NA      1      \n",
       "27 3 Jenny       27 31   11      1      \n",
       "28 3 Greta       28 44   14      1      \n",
       "29 3 Margareta   29 29   14      1      \n",
       "30 3 Marget      30 27   14      1      "
      ]
     },
     "metadata": {},
     "output_type": "display_data"
    }
   ],
   "source": [
    "dplyr::bind_rows(dataframes)"
   ]
  },
  {
   "cell_type": "code",
   "execution_count": 43,
   "metadata": {},
   "outputs": [],
   "source": [
    "help(read_excel)"
   ]
  },
  {
   "cell_type": "code",
   "execution_count": 42,
   "metadata": {},
   "outputs": [
    {
     "data": {
      "text/html": [
       "<ol class=list-inline>\n",
       "\t<li>'./simData/example_concat.xlsx'</li>\n",
       "\t<li>'./simData/example_concat1.xlsx'</li>\n",
       "\t<li>'./simData/example_concat3.xlsx'</li>\n",
       "\t<li>'./simData/example_sheets.xlsx'</li>\n",
       "\t<li>'./simData/example_sheets2.xlsx'</li>\n",
       "</ol>\n"
      ],
      "text/latex": [
       "\\begin{enumerate*}\n",
       "\\item './simData/example\\_concat.xlsx'\n",
       "\\item './simData/example\\_concat1.xlsx'\n",
       "\\item './simData/example\\_concat3.xlsx'\n",
       "\\item './simData/example\\_sheets.xlsx'\n",
       "\\item './simData/example\\_sheets2.xlsx'\n",
       "\\end{enumerate*}\n"
      ],
      "text/markdown": [
       "1. './simData/example_concat.xlsx'\n",
       "2. './simData/example_concat1.xlsx'\n",
       "3. './simData/example_concat3.xlsx'\n",
       "4. './simData/example_sheets.xlsx'\n",
       "5. './simData/example_sheets2.xlsx'\n",
       "\n",
       "\n"
      ],
      "text/plain": [
       "[1] \"./simData/example_concat.xlsx\"  \"./simData/example_concat1.xlsx\"\n",
       "[3] \"./simData/example_concat3.xlsx\" \"./simData/example_sheets.xlsx\" \n",
       "[5] \"./simData/example_sheets2.xlsx\""
      ]
     },
     "metadata": {},
     "output_type": "display_data"
    }
   ],
   "source": [
    "Sys.glob('./simData/*.xlsx')"
   ]
  },
  {
   "cell_type": "code",
   "execution_count": 53,
   "metadata": {},
   "outputs": [
    {
     "name": "stdout",
     "output_type": "stream",
     "text": [
      "Classes 'tbl_df', 'tbl' and 'data.frame':\t10 obs. of  5 variables:\n",
      " $ Name   : chr  \"Pete\" \"Steve\" \"Dave\" \"Justine\" ...\n",
      " $ ID     : chr  \"1\" \"2\" \"3\" \"4\" ...\n",
      " $ Mean   : num  32 31 30 31 45 99 29 35 37 33\n",
      " $ Correct: num  15 14 15 13 14 99 11 14 14 14\n",
      " $ Session: chr  \"1\" \"1\" \"1\" \"1\" ...\n"
     ]
    }
   ],
   "source": [
    "df <- read_excel('SimData/example_sheets2.xlsx', \n",
    "                 col_types=c(\"text\", \"text\", \"numeric\",\n",
    "                            \"numeric\", \"text\"),\n",
    "                   sheet='Session1')\n",
    "\n",
    "str(df)"
   ]
  },
  {
   "cell_type": "code",
   "execution_count": 4,
   "metadata": {},
   "outputs": [
    {
     "name": "stdout",
     "output_type": "stream",
     "text": [
      "'data.frame':\t6 obs. of  2 variables:\n",
      " $ Age  : num  21 22 20 19 18 23\n",
      " $ Names: Factor w/ 6 levels \"Andreas\",\"George\",..: 1 2 6 5 4 3\n"
     ]
    }
   ],
   "source": [
    "df <- data.frame(\"Age\" = c(21, 22, 20, 19, 18, 23), \"Names\" = c(\"Andreas\", \"George\", \"Steve\",\n",
    "                           \"Sarah\", \"Joanna\", \"Hanna\"))\n",
    "\n",
    "\n",
    "str(df)"
   ]
  },
  {
   "cell_type": "code",
   "execution_count": 5,
   "metadata": {},
   "outputs": [],
   "source": [
    "write.xlsx(df, 'names_ages.xlsx', \n",
    "           sheetName = \"Sheet1\")"
   ]
  },
  {
   "cell_type": "code",
   "execution_count": 8,
   "metadata": {},
   "outputs": [],
   "source": [
    "write.xlsx(df, 'names_ages.xlsx', \n",
    "           sheetName = \"Names and Ages\",\n",
    "          row.names=FALSE)"
   ]
  },
  {
   "cell_type": "code",
   "execution_count": 14,
   "metadata": {},
   "outputs": [],
   "source": [
    "df1 <- data.frame('Names' = c('Andreas', 'George', 'Steve',\n",
    "                           'Sarah', 'Joanna', 'Hanna'),\n",
    "                   'Age' = c(21, 22, 20, 19, 18, 23))\n",
    "\n",
    "df2 <- data.frame('Names' =  c('Pete', 'Jordan', 'Gustaf',\n",
    "                           'Sophie', 'Sally', 'Simone'),\n",
    "                   'Age' = c(22, 21, 19, 19, 29, 21))\n",
    "\n",
    "df3 <- data.frame('Names' = c('Ulrich', 'Donald', 'Jon',\n",
    "                           'Jessica', 'Elisabeth', 'Diana'),\n",
    "                   'Age' = c(21, 21, 20, 19, 19, 22))\n",
    "\n",
    "dfs <- list(df1, df2, df3)"
   ]
  },
  {
   "cell_type": "code",
   "execution_count": 61,
   "metadata": {},
   "outputs": [],
   "source": [
    "wb <- createWorkbook(type=\"xlsx\")"
   ]
  },
  {
   "cell_type": "code",
   "execution_count": 64,
   "metadata": {},
   "outputs": [],
   "source": [
    "help(createWorkbook\n",
    "    )"
   ]
  },
  {
   "cell_type": "code",
   "execution_count": 62,
   "metadata": {},
   "outputs": [
    {
     "data": {
      "text/plain": [
       "[[1]]\n",
       "$ref\n",
       "[1] \"Java-Object{org.cran.rexcel.RCellBlock@130f889}\"\n",
       "\n",
       "attr(,\"class\")\n",
       "[1] \"CellBlock\"\n",
       "\n",
       "[[2]]\n",
       "$ref\n",
       "[1] \"Java-Object{org.cran.rexcel.RCellBlock@1188e820}\"\n",
       "\n",
       "attr(,\"class\")\n",
       "[1] \"CellBlock\"\n",
       "\n",
       "[[3]]\n",
       "$ref\n",
       "[1] \"Java-Object{org.cran.rexcel.RCellBlock@2f490758}\"\n",
       "\n",
       "attr(,\"class\")\n",
       "[1] \"CellBlock\"\n"
      ]
     },
     "metadata": {},
     "output_type": "display_data"
    }
   ],
   "source": [
    "multiple_dataframe <- function(i){\n",
    "    \n",
    "    df = dfs[i]\n",
    "    sheet_name = paste0(\"Sheet\", i)\n",
    "    sheet = createSheet(wb, sheet_name)\n",
    "    \n",
    "    addDataFrame(df, sheet=sheet, row.names=FALSE)\n",
    "}\n",
    "\n",
    "lapply(seq_along(dfs), function(x) multiple_dataframe(x))"
   ]
  },
  {
   "cell_type": "code",
   "execution_count": 63,
   "metadata": {},
   "outputs": [],
   "source": [
    "saveWorkbook(wb, 'multiple_Sheets.xlsx')"
   ]
  },
  {
   "cell_type": "code",
   "execution_count": null,
   "metadata": {},
   "outputs": [],
   "source": []
  }
 ],
 "metadata": {
  "kernelspec": {
   "display_name": "R",
   "language": "R",
   "name": "ir"
  },
  "language_info": {
   "codemirror_mode": "r",
   "file_extension": ".r",
   "mimetype": "text/x-r-source",
   "name": "R",
   "pygments_lexer": "r",
   "version": "3.6.1"
  }
 },
 "nbformat": 4,
 "nbformat_minor": 2
}
