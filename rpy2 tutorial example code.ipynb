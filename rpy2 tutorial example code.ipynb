{
 "cells": [
  {
   "cell_type": "markdown",
   "metadata": {},
   "source": [
    "## Rpy2 Tutorial: Code Example\n",
    "This code example is for the rpy2 tutorials on [my blog](https://www.marsja.se/r-from-python-rpy2-tutorial/) and my [YouTube Channel](https://youtu.be/GvmoOHkABNA).\n",
    "\n",
    "If you want another code example on how to call R from Python you can find it [here](https://youtu.be/RK-n78ZOXUg) in the YouTube tutorial."
   ]
  },
  {
   "cell_type": "code",
   "execution_count": 1,
   "metadata": {},
   "outputs": [],
   "source": [
    "import rpy2.robjects as robjects\n",
    "import rpy2.robjects.packages as rpackages\n",
    "from rpy2.robjects.vectors import StrVector\n",
    "\n",
    "packageNames = ('afex', 'emmeans')\n",
    "utils = rpackages.importr('utils')\n",
    "utils.chooseCRANmirror(ind=1)\n",
    "\n",
    "packnames_to_install = [x for x in packageNames if not rpackages.isinstalled(x)]\n",
    "\n",
    "if len(packnames_to_install) > 0:\n",
    "    utils.install_packages(StrVector(packnames_to_install))"
   ]
  },
  {
   "cell_type": "code",
   "execution_count": 3,
   "metadata": {},
   "outputs": [
    {
     "name": "stdout",
     "output_type": "stream",
     "text": [
      "Anova Table (Type 3 tests)\n",
      "\r\n",
      "\n",
      "\r\n",
      "Response: Recall\n",
      "\r\n",
      "   Effect         df  MSE          F ges p.value\n",
      "\r\n",
      "1 Valence 1.15, 4.60 9.34 189.11 *** .93  <.0001\n",
      "\r\n",
      "---\n",
      "\r\n",
      "Signif. codes:  0 '***' 0.001 '**' 0.01 '*' 0.05 '+' 0.1 ' ' 1\n",
      "\r\n",
      "\n",
      "\r\n",
      "Sphericity correction method: GG \n",
      "\n"
     ]
    }
   ],
   "source": [
    "data = robjects.r('read.table(file =' \\\n",
    "       '\"http://personality-project.org/r/datasets/R.appendix3.data\", header = T)')\n",
    "\n",
    "afex = rpackages.importr('afex') \n",
    "model = afex.aov_ez('Subject', 'Recall', data, within='Valence')\n",
    "print(model)"
   ]
  },
  {
   "cell_type": "code",
   "execution_count": 4,
   "metadata": {},
   "outputs": [
    {
     "name": "stdout",
     "output_type": "stream",
     "text": [
      "$emmeans\n",
      "\r\n",
      " Valence emmean       SE   df  lower.CL upper.CL\n",
      "\r\n",
      " Neg       27.8 1.570563 7.33 24.119388 31.48061\n",
      "\r\n",
      " Neu       11.6 1.570563 7.33  7.919388 15.28061\n",
      "\r\n",
      " Pos       40.0 1.570563 7.33 36.319388 43.68061\n",
      "\r\n",
      "\n",
      "\r\n",
      "Confidence level used: 0.95 \n",
      "\r\n",
      "\n",
      "\r\n",
      "$contrasts\n",
      "\r\n",
      " contrast  estimate       SE df t.ratio p.value\n",
      "\r\n",
      " Neg - Neu     16.2 1.465151  8  11.057  <.0001\n",
      "\r\n",
      " Neg - Pos    -12.2 1.465151  8  -8.327  <.0001\n",
      "\r\n",
      " Neu - Pos    -28.4 1.465151  8 -19.384  <.0001\n",
      "\r\n",
      "\n",
      "\r\n",
      "P value adjustment: holm method for 3 tests \n",
      "\r\n",
      "\n",
      "\n"
     ]
    }
   ],
   "source": [
    "emmeans = rpackages.importr('emmeans', \n",
    "               robject_translations = {\"recover.data.call\": \"recover_data_call1\"})\n",
    "pairwise = emmeans.emmeans(model, \"Valence\", contr=\"pairwise\", adjust=\"holm\")\n",
    "\n",
    "print(pairwise)"
   ]
  },
  {
   "cell_type": "code",
   "execution_count": null,
   "metadata": {},
   "outputs": [],
   "source": []
  }
 ],
 "metadata": {
  "kernelspec": {
   "display_name": "Python 3",
   "language": "python",
   "name": "python3"
  },
  "language_info": {
   "codemirror_mode": {
    "name": "ipython",
    "version": 3
   },
   "file_extension": ".py",
   "mimetype": "text/x-python",
   "name": "python",
   "nbconvert_exporter": "python",
   "pygments_lexer": "ipython3",
   "version": "3.6.6"
  }
 },
 "nbformat": 4,
 "nbformat_minor": 2
}
